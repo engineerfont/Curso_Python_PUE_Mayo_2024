{
 "cells": [
  {
   "cell_type": "code",
   "execution_count": 2,
   "id": "14ffd57c-659d-4cc8-bb9b-4cd388faccb8",
   "metadata": {},
   "outputs": [],
   "source": [
    "#!pip install selenium\n",
    "#!pip install pandas\n",
    "#!pip install openpyxl"
   ]
  },
  {
   "cell_type": "markdown",
   "id": "c09bcb5a-b258-4032-a0ca-f8dd6c746e41",
   "metadata": {},
   "source": [
    "Importamos el módulo **sys**"
   ]
  },
  {
   "cell_type": "code",
   "execution_count": null,
   "id": "5fbee351-7ab4-47b1-a048-dd3828267808",
   "metadata": {},
   "outputs": [],
   "source": [
    "import sys"
   ]
  },
  {
   "cell_type": "markdown",
   "id": "24af9713-a678-41c8-be2e-11d3ae521e72",
   "metadata": {},
   "source": [
    "Definimos la ruta base de búsqueda de paquetes y módulos"
   ]
  },
  {
   "cell_type": "code",
   "execution_count": null,
   "id": "eb3bba0a-cca6-4aa7-84cb-0108643d58db",
   "metadata": {},
   "outputs": [],
   "source": [
    "sys.path.append('../../')"
   ]
  },
  {
   "cell_type": "markdown",
   "id": "101b774a-6158-4571-bf15-93a789ab9d10",
   "metadata": {},
   "source": [
    "Importamos los módulos necesarios de la librería **Selenium** de Python"
   ]
  },
  {
   "cell_type": "code",
   "execution_count": null,
   "id": "96ed09fd-dbc6-4753-ace1-cb7d7ac5e699",
   "metadata": {},
   "outputs": [],
   "source": [
    "from selenium import webdriver\n",
    "from selenium.webdriver.chrome.options import Options\n",
    "from selenium.webdriver import ActionChains\n",
    "from selenium.webdriver.support.ui import WebDriverWait\n",
    "from selenium.webdriver.support import expected_conditions as EC\n",
    "from selenium.webdriver.common.keys import Keys\n",
    "from selenium.webdriver.common.by import By\n",
    "from selenium.webdriver.common.actions.wheel_input import ScrollOrigin\n",
    "\n",
    "import time\n",
    "import datetime\n",
    "import random\n",
    "import os\n",
    "\n",
    "import pandas as pd"
   ]
  },
  {
   "cell_type": "markdown",
   "id": "c4ed5620-e2cc-4f08-ac0f-ff789074507d",
   "metadata": {},
   "source": [
    "Importamos los módulos **Data** y **Ficheros** de nuestra librería"
   ]
  },
  {
   "cell_type": "code",
   "execution_count": null,
   "id": "410eb1eb-3651-43a4-87f0-ce4bd5196725",
   "metadata": {},
   "outputs": [],
   "source": [
    "import curso.api.Data as Data\n",
    "import curso.api.Ficheros as Files\n",
    "import curso.api.Cadena as Cadena\n",
    "import curso.api.Texto as Texto\n",
    "import curso.api.Input as Input"
   ]
  },
  {
   "cell_type": "markdown",
   "id": "db664d0f-d872-4e3d-bd0a-b063ffc89057",
   "metadata": {},
   "source": [
    "Estructura del esquema del archivo '**provincias.data**'"
   ]
  },
  {
   "cell_type": "code",
   "execution_count": null,
   "id": "a921d24b-a553-4958-af3e-055ff5acfee7",
   "metadata": {},
   "outputs": [],
   "source": [
    "SCHEMA_PROVINCIA = {}\n",
    "SCHEMA_PROVINCIA['id'] = Input.to_int\n",
    "SCHEMA_PROVINCIA['provincia'] = Input.to_str\n",
    "SCHEMA_PROVINCIA['id_ccaa'] = Input.to_int\n",
    "SCHEMA_PROVINCIA['nombre'] = Input.to_str\n",
    "SCHEMA_PROVINCIA['formato'] = Input.to_int"
   ]
  },
  {
   "cell_type": "markdown",
   "id": "500efebb-119e-49af-9688-4602ae22a56e",
   "metadata": {},
   "source": [
    "Estructura del esquema del archivo de **poblaciones**"
   ]
  },
  {
   "cell_type": "code",
   "execution_count": null,
   "id": "d92ed405-21d2-49bc-9618-2e0364dc76c8",
   "metadata": {},
   "outputs": [],
   "source": [
    "SCHEMA_POBLACION = {}\n",
    "SCHEMA_POBLACION['id'] = Input.to_int\n",
    "SCHEMA_POBLACION['id_ccaa'] = Input.to_int\n",
    "SCHEMA_POBLACION['id_provincia'] = Input.to_int\n",
    "SCHEMA_POBLACION['poblacion'] = Input.to_str\n",
    "SCHEMA_POBLACION['nombre'] = Input.to_str\n",
    "SCHEMA_POBLACION['url'] = Input.to_str"
   ]
  },
  {
   "cell_type": "markdown",
   "id": "82bacdfb-c341-4940-8f50-b3128aac6ac5",
   "metadata": {},
   "source": [
    "Estructura del esquema del archivo de **temperaturas**"
   ]
  },
  {
   "cell_type": "code",
   "execution_count": null,
   "id": "ad01b8a2-f9dc-4bcb-abab-9217ef0858fb",
   "metadata": {},
   "outputs": [],
   "source": [
    "SCHEMA_DATA = {}\n",
    "SCHEMA_DATA['fecha'] = Input.to_date\n",
    "SCHEMA_DATA['id_ccaa'] = Input.to_int\n",
    "SCHEMA_DATA['id_provincia'] = Input.to_int\n",
    "SCHEMA_DATA['id_poblacion'] = Input.to_int\n",
    "SCHEMA_DATA['hora'] = Input.to_str\n",
    "SCHEMA_DATA['temperatura'] = Input.to_float\n",
    "SCHEMA_DATA['viento'] = Input.to_float"
   ]
  },
  {
   "cell_type": "markdown",
   "id": "1c634fc3-eb0a-4886-84b3-a5c4fa30450c",
   "metadata": {},
   "source": [
    "Ruta base de los datasets de poblaciones"
   ]
  },
  {
   "cell_type": "code",
   "execution_count": 4,
   "id": "f485b327-d22d-4743-89b9-593a4a0b518b",
   "metadata": {},
   "outputs": [],
   "source": [
    "RUTA_BASE_ELTIEMPO = 'c:/datasets/data/eltiempo/'\n",
    "RUTA_DATASETS_POBLACIONES = RUTA_BASE_ELTIEMPO + 'poblaciones/'"
   ]
  },
  {
   "cell_type": "markdown",
   "id": "7c6e860d-2e6b-4e13-af4d-31d7b4d859fc",
   "metadata": {},
   "source": [
    "Nombres de archivos de los datasets"
   ]
  },
  {
   "cell_type": "code",
   "execution_count": null,
   "id": "a89b2325-e484-48c0-a19b-7c7f15f24458",
   "metadata": {},
   "outputs": [],
   "source": [
    "FILE_DATA_PROVINCIAS = RUTA_BASE_ELTIEMPO + 'provincias.data'\n",
    "FILE_DATA_POBLACIONES = RUTA_BASE_ELTIEMPO + 'poblaciones.data'\n",
    "FILE_DATA_TEMPERATURAS = RUTA_BASE_ELTIEMPO + 'temperaturas.data'"
   ]
  },
  {
   "cell_type": "markdown",
   "id": "bf0cc5ac-4ac0-4389-9faa-a37e65e5870e",
   "metadata": {},
   "source": [
    "Cargamos el dataset '**provincias.data**'"
   ]
  },
  {
   "cell_type": "code",
   "execution_count": null,
   "id": "164a0faa-cd0a-4fba-8b41-96c2612296d0",
   "metadata": {
    "scrolled": true
   },
   "outputs": [],
   "source": [
    "dataset_provincias = Data.data_record(FILE_DATA_PROVINCIAS, header=True, schema=SCHEMA_PROVINCIA)"
   ]
  },
  {
   "cell_type": "markdown",
   "id": "e233ea0d-bafa-40fa-9d05-54d20ca1e00e",
   "metadata": {},
   "source": [
    "Mostramos el contenido del dataset **dataset_provincias**"
   ]
  },
  {
   "cell_type": "code",
   "execution_count": null,
   "id": "4c10da84-e217-475b-ac9a-d9c07249c506",
   "metadata": {},
   "outputs": [],
   "source": [
    "dataset_provincias"
   ]
  },
  {
   "cell_type": "markdown",
   "id": "f2fafcd0-f244-4c1c-ac22-71c7a0b24e9f",
   "metadata": {},
   "source": [
    "Dirección del sitio web para realizar Web Scraping"
   ]
  },
  {
   "cell_type": "code",
   "execution_count": null,
   "id": "f31006ca-2d44-413f-b5a8-c3fc5050db52",
   "metadata": {},
   "outputs": [],
   "source": [
    "URL_SITE_EL_TIEMPO = 'https://www.eltiempo.es/'"
   ]
  },
  {
   "cell_type": "markdown",
   "id": "942a39ed-9ae9-4fca-82f5-72136457f046",
   "metadata": {},
   "source": [
    "Funciones básicas para el funcionamiento de la aplicación Web Scraping"
   ]
  },
  {
   "cell_type": "code",
   "execution_count": null,
   "id": "9a15abb0-b260-4ac7-a81d-92060b677a27",
   "metadata": {},
   "outputs": [],
   "source": [
    "# función que recibe una colección tipo diccionario, agrega un nuevo campo 'url' a la colección y \n",
    "# devuelve la colección modificada\n",
    "def to_url_eltiempo(data):\n",
    "    # https://www.eltiempo.es/cantabria - formato 0\n",
    "    # https://www.eltiempo.es/en-provincia-huelva - formato 1\n",
    "    # https://www.eltiempo.es/melilla.html - formato 2\n",
    "    url = ''\n",
    "    if data['formato'] == 1:\n",
    "        url = 'en-provincia-' + data['nombre']\n",
    "    elif data['formato'] == 2:\n",
    "        url = data['nombre'] + '.html'\n",
    "    else:\n",
    "        url = data['nombre']\n",
    "    data['url'] = URL_SITE_EL_TIEMPO + url\n",
    "    return data\n",
    "\n",
    "# función que recibe una colección de tipo diccionario y devuelve los valores de la colección como una cadena de texto\n",
    "def dict_to_string(data):\n",
    "    return ';'.join(str(value) for value in data.values())\n",
    "\n",
    "# función que devuelve todas las poblaciones del sitio web 'eltiempo.es'\n",
    "def extraer_poblaciones_eltiempo(url_site, web_provincias):\n",
    "    driver = webdriver.Chrome()\n",
    "    try:\n",
    "        driver.get(url_site)\n",
    "        WebDriverWait(driver, 5).until(EC.element_to_be_clickable((By.CSS_SELECTOR, 'a._10qqh8uq'))).click()\n",
    "        time.sleep(3)\n",
    "        dominio = url_site.split('/')[2]\n",
    "        id_poblacion = 0\n",
    "        header = ';'.join(SCHEMA_POBLACION.keys())\n",
    "        for provincia in web_provincias:\n",
    "            if provincia['formato'] == 2:\n",
    "                continue\n",
    "            print('Extrayendo de => ' + provincia['url'])\n",
    "            driver.get(provincia['url'])\n",
    "            time.sleep(5)\n",
    "            scroll_origin = ScrollOrigin.from_viewport(10, 10)\n",
    "            ActionChains(driver).scroll_from_origin(scroll_origin, 0, 1200).perform()\n",
    "            ActionChains(driver).scroll_from_origin(scroll_origin, 0, 100).perform()\n",
    "            data_poblaciones = WebDriverWait(driver, 5).until(EC.presence_of_element_located((By.CSS_SELECTOR, 'article.modules.m_ccaaprovince.m39')))\n",
    "            links = [(str(tag.get_attribute('href')), tag.text) for tag in data_poblaciones.find_elements(By.TAG_NAME, 'a')]\n",
    "            poblaciones = []\n",
    "            for url, text in links:\n",
    "                id_poblacion += 1\n",
    "                poblacion = {}\n",
    "                poblacion['id'] = id_poblacion\n",
    "                poblacion['id_ccaa'] = provincia['id_ccaa']\n",
    "                poblacion['id_provincia'] = provincia['id']\n",
    "                poblacion['poblacion'] = text\n",
    "                poblacion['nombre'] = url.split('/')[-1].split('.')[0]\n",
    "                poblacion['url'] = url\n",
    "                poblaciones.append(poblacion)\n",
    "            poblaciones = map(dict_to_string, poblaciones)\n",
    "            Files.save_file_list(RUTA_DATASETS_POBLACIONES + provincia['nombre'] + '.data', poblaciones, header=header)\n",
    "    finally:\n",
    "        driver.quit()"
   ]
  },
  {
   "cell_type": "markdown",
   "id": "c11daf1b-f816-481c-87b1-29298841ac9d",
   "metadata": {},
   "source": [
    "Creamos la colección '**web_provincias**' utilizando el dataset ***dataset_provincias***"
   ]
  },
  {
   "cell_type": "code",
   "execution_count": null,
   "id": "f927780c-be89-49e4-9283-b2ad2c77a6b5",
   "metadata": {},
   "outputs": [],
   "source": [
    "web_provincias = list(map(to_url_eltiempo, dataset_provincias))"
   ]
  },
  {
   "cell_type": "markdown",
   "id": "dd5ad830-c3f7-48b8-9d1b-4f36cddddd98",
   "metadata": {},
   "source": [
    "Mostramos el contenido de la colección '**web_provincias**'"
   ]
  },
  {
   "cell_type": "code",
   "execution_count": null,
   "id": "afad81ab-1846-43e3-8252-90cd58173cd1",
   "metadata": {},
   "outputs": [],
   "source": [
    "for p in web_provincias:\n",
    "    print(p)\n",
    "#Files.save_file_list('c:/datasets/data/eltiempo/provincias.links', web_provincias)"
   ]
  },
  {
   "cell_type": "markdown",
   "id": "0135fbb1-3330-4719-8fd0-9ac54db091df",
   "metadata": {},
   "source": [
    "Web Scraping para obtener todas las poblaciones del sitio web **eltiempo.es** y crear *datasets de poblaciones* con las urls"
   ]
  },
  {
   "cell_type": "code",
   "execution_count": null,
   "id": "5f0753c2-45ed-491b-8c18-d404202e59e6",
   "metadata": {},
   "outputs": [],
   "source": [
    "extraer_poblaciones_eltiempo(URL_SITE_EL_TIEMPO, web_provincias)"
   ]
  },
  {
   "cell_type": "markdown",
   "id": "a76187d2-29c5-4bcc-996a-865defc1f8df",
   "metadata": {},
   "source": [
    "Función que devuelve la unión de todos los datasets de poblaciones generados"
   ]
  },
  {
   "cell_type": "code",
   "execution_count": null,
   "id": "15aeb240-f42e-4b48-9841-8e8d9c37d09c",
   "metadata": {},
   "outputs": [],
   "source": [
    "def get_by_id(id, collection):\n",
    "    return list(filter(lambda c: c['id'] == id, collection))[0]\n",
    "    \n",
    "def merge(directory):\n",
    "    data = []\n",
    "    for file in Files.dir_files(directory):\n",
    "        data += Data.data_record(file, header=True, schema=SCHEMA_POBLACION)\n",
    "    return data"
   ]
  },
  {
   "cell_type": "markdown",
   "id": "ed58c520-1fec-48d9-8666-731a48c8d646",
   "metadata": {},
   "source": [
    "Realizamos la unión de todos los datasets de poblaciones generados"
   ]
  },
  {
   "cell_type": "code",
   "execution_count": null,
   "id": "d5480435-1bd2-423f-807b-950c20d3dec9",
   "metadata": {},
   "outputs": [],
   "source": [
    "dataset_poblaciones = merge(RUTA_DATASETS_POBLACIONES)\n",
    "print(len(dataset_poblaciones))"
   ]
  },
  {
   "cell_type": "markdown",
   "id": "5aff7618-dd6b-46e3-848f-5f71b9cae421",
   "metadata": {},
   "source": [
    "Guardamos el dataset '**dataset_poblaciones**' que contiene todas las poblaciones"
   ]
  },
  {
   "cell_type": "code",
   "execution_count": null,
   "id": "c7e66af7-3d8e-4b37-ac69-eb23a34fb27e",
   "metadata": {},
   "outputs": [],
   "source": [
    "dataset_poblaciones = map(dict_to_string, dataset_poblaciones)\n",
    "header = ';'.join(SCHEMA_POBLACION.keys())\n",
    "Files.save_file_list(FILE_DATA_POBLACIONES, dataset_poblaciones, header=header)"
   ]
  },
  {
   "cell_type": "markdown",
   "id": "f05fda5c-05a9-4de8-8531-05d9b4751b97",
   "metadata": {},
   "source": [
    "Limpiamos el dataset '**dataset_poblaciones**' de urls repetidas"
   ]
  },
  {
   "cell_type": "code",
   "execution_count": null,
   "id": "79d05855-6760-4f53-ba66-9260c3d159eb",
   "metadata": {},
   "outputs": [],
   "source": [
    "def remove_duplicate(collection, field):\n",
    "    value = ''\n",
    "    data = []\n",
    "    for item in collection:\n",
    "        data_field = Texto.to_abc(item[field])\n",
    "        if data_field == value:\n",
    "            continue\n",
    "        value = data_field\n",
    "        data.append(item)\n",
    "    return data"
   ]
  },
  {
   "cell_type": "markdown",
   "id": "bdf48352-24ad-458a-bd91-98e2a3b23a56",
   "metadata": {},
   "source": [
    "Cargamos de nuevo el dataset '**dataset_poblaciones**'"
   ]
  },
  {
   "cell_type": "code",
   "execution_count": null,
   "id": "ea0c60c9-6c1a-4287-8587-cc844a459bf9",
   "metadata": {},
   "outputs": [],
   "source": [
    "dataset_poblaciones = Data.data_record(FILE_DATA_POBLACIONES, header=True, schema=SCHEMA_POBLACION)"
   ]
  },
  {
   "cell_type": "markdown",
   "id": "6bca5cb9-df1d-4917-94ef-7a1af27b1b0d",
   "metadata": {},
   "source": [
    "Eliminamos los enlaces duplicados que puedan aparecer"
   ]
  },
  {
   "cell_type": "code",
   "execution_count": null,
   "id": "f19a3053-f6a4-4c58-bd69-94bb85e8ea34",
   "metadata": {},
   "outputs": [],
   "source": [
    "print(len(dataset_poblaciones))\n",
    "dataset_poblaciones = remove_duplicate(dataset_poblaciones, 'nombre')\n",
    "print(len(dataset_poblaciones))"
   ]
  },
  {
   "cell_type": "markdown",
   "id": "513507b4-99c2-4aa5-8770-1fe4b050f958",
   "metadata": {},
   "source": [
    "Guardamos el dataset '**dataset_poblaciones**'"
   ]
  },
  {
   "cell_type": "code",
   "execution_count": null,
   "id": "bfb497dc-5231-46ac-a8f0-78004f516411",
   "metadata": {},
   "outputs": [],
   "source": [
    "header = ';'.join(SCHEMA_POBLACION.keys())\n",
    "dataset_poblaciones = map(dict_to_string, dataset_poblaciones)\n",
    "Files.save_file_list(FILE_DATA_POBLACIONES, dataset_poblaciones, header=header)"
   ]
  },
  {
   "cell_type": "code",
   "execution_count": null,
   "id": "165ebe55-d8a5-471d-9349-304c59e5cd19",
   "metadata": {
    "scrolled": true
   },
   "outputs": [],
   "source": [
    "def temperaturas_diarias(driver, poblacion):\n",
    "    temperaturas = []\n",
    "    for li in driver.find_element(By.ID, 'meteograma').find_elements(By.TAG_NAME, 'ul')[1].find_elements(By.TAG_NAME, 'li'):\n",
    "        datos = Cadena.trim(li.text).split(' ')\n",
    "        data = {}\n",
    "        data['fecha'] = datetime.date.today()\n",
    "        data['id_ccaa'] = Input.to_int(poblacion['id_ccaa'])\n",
    "        data['id_provincia'] = Input.to_int(poblacion['id_provincia'])\n",
    "        data['id_poblacion'] = Input.to_int(poblacion['id'])\n",
    "        data['hora'] = datos[0]\n",
    "        data['temperatura'] = Input.to_float(datos[1][:-1])\n",
    "        data['viento'] = Input.to_float(datos[5])\n",
    "        temperaturas.append(data)\n",
    "    return temperaturas"
   ]
  },
  {
   "cell_type": "code",
   "execution_count": null,
   "id": "651ac6c4-9cc1-4a6f-a866-f6d43ab80421",
   "metadata": {},
   "outputs": [],
   "source": [
    "dataset_provincias = Data.data_record(FILE_DATA_PROVINCIAS, header=True, schema=SCHEMA_PROVINCIA)\n",
    "dataset_poblaciones = Data.data_record(FILE_DATA_POBLACIONES, header=True, schema=SCHEMA_POBLACION)\n",
    "\n",
    "id_provincia = 11\n",
    "provincia = get_by_id(id_provincia, dataset_provincias)\n",
    "driver = webdriver.Chrome()\n",
    "\n",
    "try:\n",
    "    driver.get(URL_SITE_EL_TIEMPO)\n",
    "    WebDriverWait(driver, 5).until(EC.element_to_be_clickable((By.CSS_SELECTOR, 'a._10qqh8uq'))).click()\n",
    "    time.sleep(3)\n",
    "    if not os.path.exists(FILE_DATA_TEMPERATURAS):\n",
    "        with open(FILE_DATA_TEMPERATURAS, mode='w', encoding='utf-8') as file:\n",
    "            file.write(';'.join(SCHEMA_DATA.keys()) + '\\n')\n",
    "    dataset = list(filter(lambda poblacion: poblacion['id_provincia'] == provincia['id'], dataset_poblaciones))\n",
    "    for n, poblacion in enumerate(dataset):\n",
    "        if n == 10:\n",
    "            break\n",
    "        print(f\"{provincia['provincia']} [{n + 1}:{len(dataset)}] '{poblacion['poblacion']}' => {poblacion['url']}\")\n",
    "        driver.get(poblacion['url'] + '?v=por_hora')\n",
    "        time.sleep(5)\n",
    "        temperaturas = temperaturas_diarias(driver, poblacion)\n",
    "        dataset_temperaturas = list(map(dict_to_string, temperaturas))\n",
    "        Files.save_file_list(FILE_DATA_TEMPERATURAS, dataset_temperaturas, mode='a')\n",
    "finally:\n",
    "    driver.quit()"
   ]
  },
  {
   "cell_type": "code",
   "execution_count": null,
   "id": "e8d77567-8128-4af5-a019-e57f81750677",
   "metadata": {},
   "outputs": [],
   "source": [
    "dataset_temperaturas = Data.data_record(FILE_DATA_TEMPERATURAS, header=True, schema=SCHEMA_DATA)"
   ]
  },
  {
   "cell_type": "code",
   "execution_count": null,
   "id": "fc4a47a0-62e6-40cb-9054-36b323344396",
   "metadata": {},
   "outputs": [],
   "source": [
    "dataset_temperaturas"
   ]
  },
  {
   "cell_type": "markdown",
   "id": "6838f0a3-fd45-4210-b331-580786836fd9",
   "metadata": {},
   "source": [
    "Cargamos el dataset de temperaturas en un DataFrame de **pandas**"
   ]
  },
  {
   "cell_type": "code",
   "execution_count": null,
   "id": "203c0620-a634-4e39-8ec0-52265978184a",
   "metadata": {},
   "outputs": [],
   "source": [
    "df = pd.DataFrame(dataset_temperaturas)\n",
    "df"
   ]
  },
  {
   "cell_type": "markdown",
   "id": "306c0c35-c943-4667-afd0-35a356392943",
   "metadata": {},
   "source": [
    "Guardamos el dataframe de pandas como un archivo **json**"
   ]
  },
  {
   "cell_type": "code",
   "execution_count": null,
   "id": "37d447e3-a922-4913-b5a5-dc331415398c",
   "metadata": {},
   "outputs": [],
   "source": [
    "df.to_json(FILE_DATA_TEMPERATURAS + '.json', date_format='iso', date_unit='s')"
   ]
  },
  {
   "cell_type": "markdown",
   "id": "c0efd7e6-c399-44b8-904b-4ae6d381bc3a",
   "metadata": {},
   "source": [
    "Creamos el dataframe pandas 'df_json' utilizando el archivo json creado anteriormente"
   ]
  },
  {
   "cell_type": "code",
   "execution_count": null,
   "id": "8efaa0be-3588-4db1-aeb4-c1d8b95e75a4",
   "metadata": {},
   "outputs": [],
   "source": [
    "df_json = pd.read_json(FILE_DATA_TEMPERATURAS + '.json')\n",
    "df_json['fecha'] = pd.to_datetime(df_json['fecha'])\n",
    "df_json"
   ]
  },
  {
   "cell_type": "markdown",
   "id": "2453d580-af3b-4453-9b08-aaf9e3d84c2d",
   "metadata": {},
   "source": [
    "Guardamos el dataframe de pandas como un archivo **Excel**"
   ]
  },
  {
   "cell_type": "code",
   "execution_count": null,
   "id": "18fbfad4-3861-4f62-ac7f-38fc2015fed9",
   "metadata": {},
   "outputs": [],
   "source": [
    "df.to_excel(FILE_DATA_TEMPERATURAS + '.xlsx')"
   ]
  },
  {
   "cell_type": "markdown",
   "id": "2cb5e3e8-6b67-4d29-9792-631a0da36807",
   "metadata": {},
   "source": [
    "Creamos el dataframe pandas 'df_excel' utilizando el archivo Excel creado anteriormente"
   ]
  },
  {
   "cell_type": "code",
   "execution_count": null,
   "id": "9afc0a22-3016-4ee7-95e2-b203482f8723",
   "metadata": {},
   "outputs": [],
   "source": [
    "df_excel = pd.read_excel(FILE_DATA_TEMPERATURAS + '.xlsx')\n",
    "df_excel"
   ]
  },
  {
   "cell_type": "code",
   "execution_count": null,
   "id": "64af0b5b-62db-4675-95b2-f5c7525510e4",
   "metadata": {},
   "outputs": [],
   "source": []
  }
 ],
 "metadata": {
  "kernelspec": {
   "display_name": "Python 3 (ipykernel)",
   "language": "python",
   "name": "python3"
  },
  "language_info": {
   "codemirror_mode": {
    "name": "ipython",
    "version": 3
   },
   "file_extension": ".py",
   "mimetype": "text/x-python",
   "name": "python",
   "nbconvert_exporter": "python",
   "pygments_lexer": "ipython3",
   "version": "3.12.2"
  }
 },
 "nbformat": 4,
 "nbformat_minor": 5
}
