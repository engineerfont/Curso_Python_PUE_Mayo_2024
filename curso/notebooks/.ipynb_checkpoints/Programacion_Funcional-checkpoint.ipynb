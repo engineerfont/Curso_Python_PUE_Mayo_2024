{
 "cells": [
  {
   "cell_type": "markdown",
   "id": "3dfa68e2-f4b5-438b-b7c7-ca3652c01bca",
   "metadata": {},
   "source": [
    "# Programación funcional en Python"
   ]
  },
  {
   "cell_type": "markdown",
   "id": "efb02df7-ac76-4623-bcfc-8c8acb2ae82d",
   "metadata": {},
   "source": [
    "### Características de la Programación Funcional"
   ]
  },
  {
   "cell_type": "markdown",
   "id": "649603ba-443e-4bcb-b49f-58ce6270f691",
   "metadata": {},
   "source": [
    "La programación funcional es un paradigma de programación que se enfoca en el uso de funciones y tipos de datos inmutables para realizar operaciones. Estas funciones son “*puras*”, lo que significa que su salida depende únicamente de sus entradas y no mantienen ningún estado interno. *Dado un conjunto de inputs, siempre se producen los mismos outputs*.\n",
    "\n",
    "Esto hace que el código sea más predecible y fácil de depurar. El objetivo final de la programación funcional es descomponer un problema en un conjunto de funciones puras que se pueden componer para crear una solución final. Este enfoque promueve la reutilización y la modularidad del código, lo que lo hace más fácil de entender y mantener."
   ]
  },
  {
   "cell_type": "markdown",
   "id": "17dab7eb-8a34-42d8-9038-3b440ffc203f",
   "metadata": {},
   "source": [
    "### Conceptos más relevantes de la programación funcional"
   ]
  },
  {
   "cell_type": "markdown",
   "id": "d3ddcd92-4a6f-4468-8467-728727f4b6cc",
   "metadata": {},
   "source": [
    "* ***Las funciones son objetos centrales***.<br/>En la programación funcional, las funciones se consideran ciudadanos de primera clase, lo que significa que pueden tratarse como cualquier otro valor, como números enteros o cadenas de caracteres.<br/>\n",
    "Esto significa que pueden almacenarse en variables, pasarse como argumentos a otras funciones y devolverse como salida de otras funciones.<br/>\n",
    "La capacidad de tratar funciones como objetos de primera clase es fundamental para la programación funcional y permite muchas otras características del lenguaje, como funciones de orden superior y funciones anónimas.<br/>\n",
    "Esto permite una mayor flexibilidad y modularidad en la programación, lo que facilita la escritura de código reutilizable y componible."
   ]
  },
  {
   "cell_type": "markdown",
   "id": "e916b928-7435-470d-94ae-81d18f0bb0de",
   "metadata": {},
   "source": [
    "* ***Carencia de control de flujo***.<br/>En la programación funcional, el control de flujo se logra principalmente mediante el uso de la recursividad, que es el proceso de una función que se llama a sí misma.<br/>\n",
    "Esto contrasta con la programación imperativa, donde el control de flujo se logra mediante el uso de sentencias como bucles y condicionales.<br/>\n",
    "La recursividad permite la descomposición de un problema en subproblemas más pequeños y manejables, y a menudo se usa en programación funcional para procesar estructuras de datos como listas y árboles."
   ]
  },
  {
   "cell_type": "markdown",
   "id": "b424d63c-c5c5-4d8e-b490-77384158de87",
   "metadata": {},
   "source": [
    "* ***Funciones de orden superior***.<br/>En la programación funcional, las funciones de orden superior son funciones que operan sobre otras funciones, ya sea tomándolas como argumentos o devolviéndolas como salida.<br/>Esto significa que se pueden usar para manipular y componer otras funciones, lo que las convierte en una poderosa herramienta para estructurar y abstraer código."
   ]
  },
  {
   "cell_type": "markdown",
   "id": "eca8279e-2950-49ca-9779-ff755c913cd6",
   "metadata": {},
   "source": [
    "### Funciones de orden superior"
   ]
  },
  {
   "cell_type": "markdown",
   "id": "523ce8d2-876d-4f73-a80d-1acf9b8c8e50",
   "metadata": {},
   "source": [
    "**Las funciones de orden superior** son aquellas funciones que pueden recibir funciones como argumentos o funciones que pueden devolver otra función.\n",
    "\n",
    "#### Ejemplos de funciones de orden superior:\n",
    "\n",
    "Ejemplo 1: Función de orden superior que recibe como argumento una función."
   ]
  },
  {
   "cell_type": "code",
   "execution_count": null,
   "id": "dc9148c7-0aaf-47d0-a104-2df5eb86c33e",
   "metadata": {},
   "outputs": [],
   "source": [
    "def op(f, op1, op2):\n",
    "    return f(op1, op2)\n",
    "\n",
    "def suma(a, b):\n",
    "    return a + b\n",
    "\n",
    "def resta(g, j):\n",
    "    return g - j\n",
    "\n",
    "s = op(suma, 3, 7)\n",
    "r = op(resta, 12, 5)\n",
    "print(s)\n",
    "print(r)"
   ]
  },
  {
   "cell_type": "markdown",
   "id": "fdfa73e2-d946-4c47-ab38-bac28f435017",
   "metadata": {},
   "source": [
    "Ejemplo 2: Una función que devuelve otra función."
   ]
  },
  {
   "cell_type": "code",
   "execution_count": null,
   "id": "4316169f-ed70-4877-bbd8-fc3e784a1a7a",
   "metadata": {},
   "outputs": [],
   "source": [
    "def tipo(tipo=0):\n",
    "    if tipo == 1:\n",
    "        return int\n",
    "    elif tipo == 2:\n",
    "        return float\n",
    "    elif tipo == 3:\n",
    "        return complex\n",
    "    elif tipo == 4:\n",
    "        return bool\n",
    "    else:\n",
    "        return str\n",
    "\n",
    "valor = '123.45'\n",
    "real = tipo(2)      # tipo float\n",
    "complejo = tipo(3)  # tipo complex\n",
    "\n",
    "print(real(valor))\n",
    "print(complejo(valor))\n",
    "\n",
    "print( tipo(1)(  tipo(2)(valor)  ) )"
   ]
  },
  {
   "cell_type": "markdown",
   "id": "c4a0940a-b7a7-46f0-99bc-bb0d1c00fe8d",
   "metadata": {},
   "source": [
    "Importamos el módulo **math** de Python"
   ]
  },
  {
   "cell_type": "code",
   "execution_count": null,
   "id": "f17db365-946f-4c69-948e-d2af6ddc3323",
   "metadata": {},
   "outputs": [],
   "source": [
    "import math"
   ]
  },
  {
   "cell_type": "markdown",
   "id": "cdac9452-210f-43b0-91f0-7b4575098176",
   "metadata": {},
   "source": [
    "Ejemplo 3: Función que devuelve otra función."
   ]
  },
  {
   "cell_type": "code",
   "execution_count": null,
   "id": "e5520bc8-9f31-47d6-beab-7f5a538fa85c",
   "metadata": {},
   "outputs": [],
   "source": [
    "def sumatorio(*nums):\n",
    "    return sum(nums)\n",
    "\n",
    "def producto(*nums):\n",
    "    return math.prod(nums)\n",
    "\n",
    "def op(tipo=1):\n",
    "    if tipo == 1:\n",
    "        return sumatorio\n",
    "    else:\n",
    "        return producto\n",
    "\n",
    "sumas = op()\n",
    "productos = op(2)\n",
    "\n",
    "print(sumas(1,2,4,5))\n",
    "print(productos(2,3,4,5))"
   ]
  },
  {
   "cell_type": "markdown",
   "id": "b4ffc66a-43b7-4cdd-9612-12982103959a",
   "metadata": {},
   "source": [
    "### Funcions Lambda\n",
    "Funciones Lambda o Expresiones Lambda se refieren a las funciones anónimas en Python. Estas funciones son una forma de crear funciones pequeñas y desechables en Python.\n",
    "\n",
    "Se definen mediante la palabra clave \"**lambda**\", seguida de ***una lista de argumentos*** y ***dos puntos***, y luego **una expresión**. La expresión se evalúa y se devuelve como salida de la función lambda.\n",
    "\n",
    "Por ejemplo 1:"
   ]
  },
  {
   "cell_type": "code",
   "execution_count": null,
   "id": "67f3e1eb-e760-4fa5-9e22-e1653bcd2267",
   "metadata": {},
   "outputs": [],
   "source": [
    "division = lambda p, s: p / s\n",
    "\n",
    "resultado = division(44, 4)\n",
    "print(resultado)"
   ]
  },
  {
   "cell_type": "markdown",
   "id": "d69aa7bc-51f1-4a4e-b05a-d3a25f11351b",
   "metadata": {},
   "source": [
    "### Funciones de orden superior Map/Reduce\n",
    "Las funciones de orden superior en Python son funciones que toman otras funciones como argumentos o devuelven funciones como salida.\n",
    "\n",
    "Estas funciones pueden operar en funciones de varias maneras, como aplicarlas a un conjunto de datos de entrada, combinarlas con otras funciones o devolver nuevas funciones con un comportamiento modificado. \n",
    "\n",
    "Los ejemplos mas sobresalientes de estas funciones son *map()*, *reduce()*, y *filter()*. Estas se usan en el patrón de diseño Map/Reduce.\n",
    "\n",
    "El patrón Map/Reduce es una técnica de programación que permite el procesamiento eficiente de grandes conjuntos de datos al dividir el problema en dos pasos distintos: mapeo y reducción.\n",
    "\n",
    "1. **Map**: el primer paso es mapear el conjunto de datos de entrada en un nuevo conjunto de datos donde cada elemento se transforma de acuerdo con una función dada. Este paso generalmente se implementa utilizando la función *map()* incorporada en Python, que aplica una función dada a cada elemento en un iterable (como una lista o un generador).\n",
    "\n",
    "2. **Reduce**: el segundo paso es reducir el conjunto de datos asignados a un solo valor o un conjunto de datos más pequeño. Este paso generalmente se implementa utilizando la función *reduce()* incorporada en Python, que aplica una función determinada de forma acumulativa a los elementos de un iterable, de izquierda a derecha, para reducir el iterable a un solo valor. La función toma dos argumentos: un acumulador y el siguiente elemento del iterable.\n",
    "\n",
    "En python, los módulos **itertools** y **functools** tienen algunas funciones útiles para implementar el patrón Map/Reduce de la forma mas eficiente posible.\n",
    "\n",
    "El patrón Map/Reduce se usa comúnmente para computación distribuida y procesamiento de big data, donde el conjunto de datos de entrada es demasiado grande para caber en la memoria y debe dividirse en varias máquinas."
   ]
  },
  {
   "cell_type": "raw",
   "id": "a19c5476-7e19-485b-90cb-58ba1e628dfd",
   "metadata": {},
   "source": [
    "#### Función **map()**:\n",
    "\n",
    "La función *map* tiene dos argumentos como entrada:\n",
    "* Una *colección u objeto iterable* utilizada para generar una nueva colección.\n",
    "* Una *función*, que será aplicada a cada uno de los elementos de la colección, esta función debe de devolver un nuevo valor.\n",
    "\n",
    "***map*** nos devuelve una nueva lista donde todos y cada uno de los elementos de la colección u objeto iterable original se le han aplicado la función de entrada.\n",
    "\n",
    "**map(*funcion_a_aplicar*, *objeto_iterable_o_colección*)**\n",
    "\n",
    "![Image](images/map.png)\n",
    "\n",
    "Ejemplo función **map**:"
   ]
  },
  {
   "cell_type": "code",
   "execution_count": null,
   "id": "997dea14-03ff-47b1-b1cc-df4fa382f380",
   "metadata": {},
   "outputs": [],
   "source": [
    "# usar la funcion map para obtener el cuadrado de una lista de numeros\n",
    "numeros = [1, 2, 3, 4, 5]\n",
    "\n",
    "cuadrados = list(map(lambda x: x ** 2, numeros))\n",
    "print(cuadrados)  # Salida: [1, 4, 9, 16, 25] "
   ]
  },
  {
   "cell_type": "markdown",
   "id": "311a09d5-c675-474c-a894-411877dc4c79",
   "metadata": {},
   "source": [
    "El siguiente ejemplo parte de una lista de nombres de ciudades y se crea una nueva lista con los nombres de las ciudades invertidos.\n",
    "\n",
    "**Versión 1**. Utilizando funciones:"
   ]
  },
  {
   "cell_type": "code",
   "execution_count": null,
   "id": "86665f80-f898-4f0c-8555-3ed440adde53",
   "metadata": {},
   "outputs": [],
   "source": [
    "def reverse(s):\n",
    "    return s[::-1]\n",
    "\n",
    "ciudades = ['Jumilla', 'Otero de Bodas', 'Pepino', 'Albalat de la ribera', 'Bellmunt del Priorat']\n",
    "nombres = map(reverse, ciudades)\n",
    "for ciudad in nombres:\n",
    "    print(ciudad)"
   ]
  },
  {
   "cell_type": "markdown",
   "id": "1dd62122-db4e-4395-8422-d1bf1d5f9e92",
   "metadata": {},
   "source": [
    "**Versión 2**: Utilizando funciones anónimas o *lambda*"
   ]
  },
  {
   "cell_type": "code",
   "execution_count": null,
   "id": "e8b0b4ee-7897-4c23-93d5-fee57dc3d88e",
   "metadata": {},
   "outputs": [],
   "source": [
    "ciudades = ['Jumilla', 'Otero de Bodas', 'Pepino', 'Albalat de la ribera', 'Bellmunt del Priorat']\n",
    "nombres = map(lambda s: s[::-1], ciudades)\n",
    "for ciudad in nombres:\n",
    "    print(ciudad)"
   ]
  },
  {
   "cell_type": "markdown",
   "id": "d9d70fce-4247-43fa-b1ff-a64c9ed99ffc",
   "metadata": {},
   "source": [
    "#### Función **filter()**:\n",
    "\n",
    "La función *filter* tiene dos argumentos como entrada:\n",
    "* Una *colección u objeto iterable* utilizada para el filtrado.\n",
    "* Una *función*, que será aplicada a cada uno de los elementos de la colección, esta función debe de devolver un valor de tipo booleano.\n",
    "\n",
    "***filter*** nos devuelve una nueva lista donde todos y cada uno de los elementos de la colección u objeto iterable original se le han aplicado la función de entrada.\n",
    "\n",
    "**filter(*funcion_a_aplicar*, *objeto_iterable_o_colección*)**\n",
    "\n",
    "![Image](images/filter.png)\n",
    "\n",
    "Ejemplo función **filter**:"
   ]
  },
  {
   "cell_type": "code",
   "execution_count": null,
   "id": "88722ab9-3f46-4f15-93fc-8c2becf8d1cd",
   "metadata": {},
   "outputs": [],
   "source": [
    "# usa la funcion para filtrar los numeros pares de una lista de numeros\n",
    "numeros = [1, 2, 3, 4, 5, 6, 7, 8, 9, 10]\n",
    "\n",
    "impares = list(filter(lambda x: x % 2 == 0, numeros))\n",
    "print(impares)  # Salida: [2, 4, 6, 8, 10]    "
   ]
  },
  {
   "cell_type": "markdown",
   "id": "5ec377d6-10ba-4bc9-ae3c-4b25ca87d9b4",
   "metadata": {},
   "source": [
    "El siguiente ejemplo parte de una lista de nombres de ciudades y se crea una nueva lista con los nombres de las ciudades filtradas por su número de caracteres.\n",
    "\n",
    "**Versión 1**. Utilizando funciones:"
   ]
  },
  {
   "cell_type": "code",
   "execution_count": null,
   "id": "a6ee7127-e526-4c14-a549-513c6408e246",
   "metadata": {},
   "outputs": [],
   "source": [
    "def size(s):\n",
    "    return len(s) > 10\n",
    "    \n",
    "ciudades = ['Jumilla', 'Otero de Bodas', 'Pepino', 'Albalat de la ribera', 'Bellmunt del Priorat']\n",
    "ciudades = filter(size, ciudades)\n",
    "for ciudad in ciudades:\n",
    "    print(ciudad)"
   ]
  },
  {
   "cell_type": "markdown",
   "id": "cc77566a-f63b-42fb-b84c-3d6f595e919f",
   "metadata": {},
   "source": [
    "**Versión 2**: Utilizando funciones anónimas o *lambda*"
   ]
  },
  {
   "cell_type": "code",
   "execution_count": null,
   "id": "5d22c260-5e13-4ed0-b460-7b15c67a1a08",
   "metadata": {},
   "outputs": [],
   "source": [
    "ciudades = ['Jumilla', 'Otero de Bodas', 'Pepino', 'Albalat de la ribera', 'Bellmunt del Priorat']\n",
    "ciudades = filter(lambda s: len(s) > 10, ciudades)\n",
    "for ciudad in ciudades:\n",
    "    print(ciudad)"
   ]
  },
  {
   "cell_type": "markdown",
   "id": "b67260b4-102a-4672-b5c7-6eff8933ebee",
   "metadata": {},
   "source": [
    "#### Función **reduce()**:\n",
    "La función *reduce* tiene tres argumentos como entrada:\n",
    "* Una *colección u objeto iterable* utilizada para la operación de reducción.\n",
    "* Una *función*, que será aplicada a cada uno de los elementos de la colección, esta función debe de devolver un nuevo valor. <br/>Esta función debe de tener obligatoriamente dos argumentos de entrada:\n",
    "<br/>El primer argumento hará referencia al acumulador, un variable que irá modificando su valor por cada uno de los elementos en la colección.<br/>El segundo argumento hará referencia a cada elemento de la colección. La función debe de retornar un nuevo valor, será este nuevo valor el que será asignado al acumulador.\n",
    "\n",
    "* Un *valor inicial*, que especifica un valor inicial para la secuencia de reducción, este argumento es opcional.\n",
    "\n",
    "***reduce*** nos devuelve un valor, resultado de reducir todos los elementos a un único valor aplicando el criterio indicado por la función de entrada.\n",
    "\n",
    "**reduce(*funcion_a_aplicar*, *objeto_iterable_o_colección*, [*valor_inicial*])**\n",
    "\n",
    "![Image](images/reduce.png)\n",
    "\n",
    "Ejemplo de función **reduce**:"
   ]
  },
  {
   "cell_type": "raw",
   "id": "2d7af9ff-a0b2-4f2b-a211-311e087ee28c",
   "metadata": {},
   "source": [
    "from functools import reduce\n",
    "numeros = [1, 2, 3, 4, 5]\n",
    "\n",
    "# usa la funcion reduce para encontrar el producto de una lista de numeros\n",
    "producto = reduce(lambda x, y: x * y, numeros)\n",
    "print(producto)  # Salida: 120   "
   ]
  },
  {
   "cell_type": "code",
   "execution_count": null,
   "id": "fcf50fe7-777b-4820-b06b-2caf059e58d5",
   "metadata": {},
   "outputs": [],
   "source": []
  }
 ],
 "metadata": {
  "kernelspec": {
   "display_name": "Python 3 (ipykernel)",
   "language": "python",
   "name": "python3"
  },
  "language_info": {
   "codemirror_mode": {
    "name": "ipython",
    "version": 3
   },
   "file_extension": ".py",
   "mimetype": "text/x-python",
   "name": "python",
   "nbconvert_exporter": "python",
   "pygments_lexer": "ipython3",
   "version": "3.12.2"
  }
 },
 "nbformat": 4,
 "nbformat_minor": 5
}
