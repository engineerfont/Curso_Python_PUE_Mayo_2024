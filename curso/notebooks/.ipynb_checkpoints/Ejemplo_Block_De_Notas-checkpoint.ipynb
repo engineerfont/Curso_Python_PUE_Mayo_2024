{
 "cells": [
  {
   "cell_type": "markdown",
   "id": "4ad648c9-61ab-421d-bde4-c10961c8170f",
   "metadata": {},
   "source": [
    "Ejemplo en Python de uso de la función split"
   ]
  },
  {
   "cell_type": "code",
   "execution_count": 5,
   "id": "2108e35b-74d2-4bb1-9f89-acccc96fb1eb",
   "metadata": {},
   "outputs": [
    {
     "name": "stdout",
     "output_type": "stream",
     "text": [
      "['esta es ', 'a frase']\n"
     ]
    }
   ],
   "source": [
    "frase = 'esta es una frase'\n",
    "\n",
    "palabras = frase.split('un')\n",
    "\n",
    "print(palabras)"
   ]
  },
  {
   "cell_type": "markdown",
   "id": "5dc098f4-6cc5-4892-bb12-faca97007ca3",
   "metadata": {},
   "source": [
    "Pulsa <a href=\"https://pue.es\" target=\"_blank\">aquí</a> para ver página de PUE"
   ]
  },
  {
   "cell_type": "markdown",
   "id": "b7b26c37-191a-47fa-b24f-baa7e48b42de",
   "metadata": {},
   "source": [
    "Funciones de búsqueda de texto en una cadena e texto"
   ]
  },
  {
   "cell_type": "code",
   "execution_count": 11,
   "id": "19c297e7-f8a3-45d7-8e11-2f17e5e7436a",
   "metadata": {},
   "outputs": [
    {
     "name": "stdout",
     "output_type": "stream",
     "text": [
      "4\n"
     ]
    }
   ],
   "source": [
    "frase = 'Hoy es miercoles'\n",
    "posi = frase.find('e')\n",
    "print(posi)"
   ]
  },
  {
   "cell_type": "markdown",
   "id": "b74fe525-74f7-4d1e-8aa2-6bd0f208b272",
   "metadata": {},
   "source": [
    "Rangos en cadenas de texto"
   ]
  },
  {
   "cell_type": "code",
   "execution_count": 8,
   "id": "ee55ee4b-8ec0-48c3-a9c5-4f875fdd34f8",
   "metadata": {},
   "outputs": [
    {
     "data": {
      "text/plain": [
       "'es'"
      ]
     },
     "execution_count": 8,
     "metadata": {},
     "output_type": "execute_result"
    }
   ],
   "source": [
    "pal = frase[4:6]\n",
    "pal"
   ]
  },
  {
   "cell_type": "code",
   "execution_count": 9,
   "id": "ca8d7f55-3c5a-4ade-9e8f-90e6d1b16468",
   "metadata": {},
   "outputs": [
    {
     "data": {
      "text/plain": [
       "'Hoy es miercole'"
      ]
     },
     "execution_count": 9,
     "metadata": {},
     "output_type": "execute_result"
    }
   ],
   "source": [
    "pal = frase[0:-1]\n",
    "pal"
   ]
  },
  {
   "cell_type": "code",
   "execution_count": 12,
   "id": "246fc0cd-fb02-422b-81ce-6b63b2f9150d",
   "metadata": {},
   "outputs": [
    {
     "data": {
      "text/plain": [
       "'Hoy es miercoles'"
      ]
     },
     "execution_count": 12,
     "metadata": {},
     "output_type": "execute_result"
    }
   ],
   "source": [
    "pal = frase[:]\n",
    "pal"
   ]
  },
  {
   "cell_type": "code",
   "execution_count": 13,
   "id": "e6ea4364-2919-405d-9bc6-631080743d5c",
   "metadata": {},
   "outputs": [
    {
     "data": {
      "text/plain": [
       "'es miercoles'"
      ]
     },
     "execution_count": 13,
     "metadata": {},
     "output_type": "execute_result"
    }
   ],
   "source": [
    "pal = frase[4:]\n",
    "pal"
   ]
  },
  {
   "cell_type": "code",
   "execution_count": 14,
   "id": "e2c2a518-e306-4bf5-bbdb-51d67f1e2f91",
   "metadata": {},
   "outputs": [
    {
     "data": {
      "text/plain": [
       "'ol'"
      ]
     },
     "execution_count": 14,
     "metadata": {},
     "output_type": "execute_result"
    }
   ],
   "source": [
    "pal = frase[-4:-2]\n",
    "pal"
   ]
  },
  {
   "cell_type": "code",
   "execution_count": 16,
   "id": "5b2adf41-0ee3-409e-be00-91aa6e9fef97",
   "metadata": {},
   "outputs": [
    {
     "data": {
      "text/plain": [
       "'selocreim se yoH'"
      ]
     },
     "execution_count": 16,
     "metadata": {},
     "output_type": "execute_result"
    }
   ],
   "source": [
    "pal = frase[::-1]\n",
    "pal"
   ]
  },
  {
   "cell_type": "code",
   "execution_count": 20,
   "id": "fe7ea34e-0fec-4bce-8423-311dde0d5fee",
   "metadata": {},
   "outputs": [
    {
     "data": {
      "text/plain": [
       "'locr'"
      ]
     },
     "execution_count": 20,
     "metadata": {},
     "output_type": "execute_result"
    }
   ],
   "source": [
    "pal = frase[2:9:3]\n",
    "pal"
   ]
  },
  {
   "cell_type": "code",
   "execution_count": 21,
   "id": "52ac5f83-a5ff-45b9-9ff0-76d1f98262fd",
   "metadata": {},
   "outputs": [
    {
     "data": {
      "text/plain": [
       "'Hye i'"
      ]
     },
     "execution_count": 21,
     "metadata": {},
     "output_type": "execute_result"
    }
   ],
   "source": [
    "pal = frase[:10:2]\n",
    "pal"
   ]
  },
  {
   "cell_type": "code",
   "execution_count": 23,
   "id": "ee34f27f-6c0e-4930-a51b-88fb1d957ca8",
   "metadata": {},
   "outputs": [
    {
     "data": {
      "text/plain": [
       "'e'"
      ]
     },
     "execution_count": 23,
     "metadata": {},
     "output_type": "execute_result"
    }
   ],
   "source": [
    "pal = frase[4]\n",
    "pal"
   ]
  },
  {
   "cell_type": "code",
   "execution_count": 22,
   "id": "7907be51-1f93-4d54-af77-34cc41c3896a",
   "metadata": {},
   "outputs": [
    {
     "name": "stdout",
     "output_type": "stream",
     "text": [
      "H\n",
      "o\n",
      "y\n",
      " \n",
      "e\n",
      "s\n",
      " \n",
      "m\n",
      "i\n",
      "e\n",
      "r\n",
      "c\n",
      "o\n",
      "l\n",
      "e\n",
      "s\n"
     ]
    }
   ],
   "source": [
    "for caracter in frase:\n",
    "    print(caracter)"
   ]
  },
  {
   "cell_type": "code",
   "execution_count": 24,
   "id": "b5579829-3952-4db5-967a-87b2e0da888b",
   "metadata": {},
   "outputs": [
    {
     "name": "stdout",
     "output_type": "stream",
     "text": [
      "H\n",
      "o\n",
      "y\n",
      " \n",
      "e\n",
      "s\n",
      " \n",
      "m\n",
      "i\n",
      "e\n",
      "r\n",
      "c\n",
      "o\n",
      "l\n",
      "e\n",
      "s\n"
     ]
    }
   ],
   "source": [
    "for i in range(len(frase)):\n",
    "    print(frase[i])"
   ]
  },
  {
   "cell_type": "code",
   "execution_count": null,
   "id": "b488bcca-85b5-4b2a-ae7a-e8df14750763",
   "metadata": {},
   "outputs": [],
   "source": []
  }
 ],
 "metadata": {
  "kernelspec": {
   "display_name": "Python 3 (ipykernel)",
   "language": "python",
   "name": "python3"
  },
  "language_info": {
   "codemirror_mode": {
    "name": "ipython",
    "version": 3
   },
   "file_extension": ".py",
   "mimetype": "text/x-python",
   "name": "python",
   "nbconvert_exporter": "python",
   "pygments_lexer": "ipython3",
   "version": "3.12.2"
  }
 },
 "nbformat": 4,
 "nbformat_minor": 5
}
