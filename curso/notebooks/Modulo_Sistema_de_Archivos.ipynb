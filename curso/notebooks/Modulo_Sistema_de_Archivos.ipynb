{
 "cells": [
  {
   "cell_type": "markdown",
   "id": "7552c99f-6991-463f-9192-29496639deaa",
   "metadata": {},
   "source": [
    "### Módulo **os** para el manejo del sistema de archivos del sistema operativo"
   ]
  },
  {
   "cell_type": "markdown",
   "id": "fd50a131-ae42-484f-af6b-6fa8cbeb6570",
   "metadata": {},
   "source": [
    "Importamos el módulo **os** de Python"
   ]
  },
  {
   "cell_type": "code",
   "execution_count": null,
   "id": "b2a103ef-12c6-45f4-a06b-300b4b37358c",
   "metadata": {},
   "outputs": [],
   "source": [
    "import os"
   ]
  },
  {
   "cell_type": "markdown",
   "id": "03ccad0c-e7d2-4999-a9bc-065085e659ab",
   "metadata": {},
   "source": [
    "Importamos el módulo ***sys*** de Python"
   ]
  },
  {
   "cell_type": "code",
   "execution_count": null,
   "id": "79cc5e54-d285-4f4c-bd7e-6270cd57952b",
   "metadata": {},
   "outputs": [],
   "source": [
    "import sys"
   ]
  },
  {
   "cell_type": "markdown",
   "id": "e95b1ef1-8dac-44c7-bb14-1f58faf6e577",
   "metadata": {},
   "source": [
    "Indicamos la ruta en donde buscar los módulos de la aplicación"
   ]
  },
  {
   "cell_type": "code",
   "execution_count": null,
   "id": "204c5e43-e924-4bf9-84a1-c21a6ae195ba",
   "metadata": {},
   "outputs": [],
   "source": [
    "sys.path.append('../')"
   ]
  },
  {
   "cell_type": "markdown",
   "id": "6968bc3d-8f79-4b0d-8e65-0f97fa6dd7ae",
   "metadata": {},
   "source": [
    "### Principales funciones y propiedades del módulo **os**"
   ]
  },
  {
   "cell_type": "markdown",
   "id": "dc8207d9-d341-4598-a128-4b3310af978b",
   "metadata": {},
   "source": [
    "La propiedad os.**name** muestra el tipo de sistema operativo"
   ]
  },
  {
   "cell_type": "code",
   "execution_count": null,
   "id": "2efb3bbc-69bc-4871-96da-714784b14530",
   "metadata": {},
   "outputs": [],
   "source": [
    "os.name"
   ]
  },
  {
   "cell_type": "markdown",
   "id": "e8e22239-6be1-4196-a24e-fbbdc530cc88",
   "metadata": {},
   "source": [
    "#### Funciones para trabajar con directorios"
   ]
  },
  {
   "cell_type": "markdown",
   "id": "03deab33-0d5c-44e6-b230-74aac4279248",
   "metadata": {},
   "source": [
    "La función os.**mkdir**, crea un directorio y lanza una excepción si ya existe el directorio."
   ]
  },
  {
   "cell_type": "code",
   "execution_count": null,
   "id": "581beb47-342d-484a-828a-7433dfa930e9",
   "metadata": {},
   "outputs": [],
   "source": [
    "os.mkdir('nuevo_dir')"
   ]
  },
  {
   "cell_type": "markdown",
   "id": "6572953e-043d-4c67-9d2f-d34dab0f7013",
   "metadata": {},
   "source": [
    "Ejemplo de una función que crea un directorio."
   ]
  },
  {
   "cell_type": "code",
   "execution_count": null,
   "id": "98dc4f35-9be0-4ba1-88b5-0d976396cdec",
   "metadata": {},
   "outputs": [],
   "source": [
    "def dir(directorio):\n",
    "    try:\n",
    "        os.mkdir(directorio)\n",
    "    except FileExistsError as fee:\n",
    "        print('El directorio ya existe')\n",
    "\n",
    "dir('nuevo_dir/uno/dos')"
   ]
  },
  {
   "cell_type": "markdown",
   "id": "a384d818-017b-423d-a97b-d4689d230320",
   "metadata": {},
   "source": [
    "La función os.**makedirs**, crea directorios y lanza una excepción si ya existen los directorios."
   ]
  },
  {
   "cell_type": "code",
   "execution_count": null,
   "id": "add5e9a2-3c96-4990-ad13-3678f58ff8ed",
   "metadata": {},
   "outputs": [],
   "source": [
    "os.makedirs('nuevo_dir/uno/dos')"
   ]
  },
  {
   "cell_type": "markdown",
   "id": "0d1e2e8a-cdc1-4ee0-93de-ac8ae5e80e14",
   "metadata": {},
   "source": [
    "Ejemplo de una función que crea directorios."
   ]
  },
  {
   "cell_type": "code",
   "execution_count": null,
   "id": "c9adb9fd-12da-45f6-9988-082e4da23eee",
   "metadata": {},
   "outputs": [],
   "source": [
    "def dirs(directorios):\n",
    "    try:\n",
    "        os.makedirs(directorios)\n",
    "    except FileExistsError as fee:\n",
    "        print('El directorio ya existe')\n",
    "\n",
    "dirs('nuevo_dir/uno/dos')"
   ]
  },
  {
   "cell_type": "markdown",
   "id": "98ada7e2-0ba4-41a1-b04d-84b83e400659",
   "metadata": {},
   "source": [
    "Si cuando utilizamos la función os.**makedirs** indicamos su parámetro *exist_ok* igual a **True**, no se lanzará ninguna excepción, independientemente de que ya existan los directorios."
   ]
  },
  {
   "cell_type": "code",
   "execution_count": null,
   "id": "3ebfd9b0-a1cf-431d-a081-8542940ab40a",
   "metadata": {},
   "outputs": [],
   "source": [
    "os.makedirs('nuevo_dir/uno/dos', exist_ok=True)"
   ]
  },
  {
   "cell_type": "markdown",
   "id": "9919c739-d158-4e89-a839-9ac1f6f97636",
   "metadata": {},
   "source": [
    "La función os.**chdir**, cambia de un directorio a otro directorio, lanza una excepción si no encuentra el directorio."
   ]
  },
  {
   "cell_type": "code",
   "execution_count": null,
   "id": "0f31ac13-a7cf-4a90-829f-5c66ed1a57c6",
   "metadata": {},
   "outputs": [],
   "source": [
    "os.chdir('/dis/')"
   ]
  },
  {
   "cell_type": "markdown",
   "id": "99a8e3cb-3e0e-4de0-aa80-494b35709786",
   "metadata": {},
   "source": [
    "Ejemplo de una función que cambia de directorio."
   ]
  },
  {
   "cell_type": "code",
   "execution_count": null,
   "id": "da7634e2-9374-4ac2-97df-6f68a7996bc5",
   "metadata": {},
   "outputs": [],
   "source": [
    "def cd(directorio):\n",
    "    try:\n",
    "        os.chdir(directorio)\n",
    "    except FileNotFoundError as fnfe:\n",
    "        print('El directorio no existe')\n",
    "\n",
    "cd('../../')"
   ]
  },
  {
   "cell_type": "markdown",
   "id": "ec3109e5-18d6-4f99-a084-5a5edce21ba1",
   "metadata": {},
   "source": [
    "La función os.**rmdir**, elimina un directorio, lanza una excepción si el directorio no existe o el directorio no está vacío."
   ]
  },
  {
   "cell_type": "code",
   "execution_count": null,
   "id": "a74f7be0-26a7-4611-bfb6-91df767e42cd",
   "metadata": {},
   "outputs": [],
   "source": [
    "os.rmdir('nuevo_dir/uno/dos')"
   ]
  },
  {
   "cell_type": "markdown",
   "id": "e91d8e5e-327e-4c59-b90b-d234e1864515",
   "metadata": {},
   "source": [
    "Ejemplo de una función que elimina un directorio."
   ]
  },
  {
   "cell_type": "code",
   "execution_count": null,
   "id": "533a6bfa-984a-4ba6-be28-294611ba0c19",
   "metadata": {},
   "outputs": [],
   "source": [
    "def rm(directorio):\n",
    "    try:\n",
    "        os.rmdir(directorio)\n",
    "    except FileNotFoundError as fnfe:\n",
    "        print('El directorio no existe')\n",
    "    except OSError as oe:\n",
    "        print('El directorio no está vacío')\n",
    "\n",
    "rm('nuevo_dir/uno/dos')"
   ]
  },
  {
   "cell_type": "markdown",
   "id": "9182b0ff-c424-4db8-a968-a15247697229",
   "metadata": {},
   "source": [
    "La función os.**removedirs**, elimina directorios, lanza una excepción si los directorios no existen o están vacíos."
   ]
  },
  {
   "cell_type": "code",
   "execution_count": null,
   "id": "47d09197-d2e1-4ad7-830c-b76bdb9ec926",
   "metadata": {},
   "outputs": [],
   "source": [
    "os.removedirs('nuevo_dir/uno')"
   ]
  },
  {
   "cell_type": "markdown",
   "id": "b2fae164-7d7a-40fe-b237-c5fd3c45177a",
   "metadata": {},
   "source": [
    "Ejemplo de una función que elimina directorios."
   ]
  },
  {
   "cell_type": "code",
   "execution_count": null,
   "id": "5f9c8d0e-de5f-4e04-91b3-44ba66ea1a07",
   "metadata": {},
   "outputs": [],
   "source": [
    "def rmdirs(directorios):\n",
    "    try:\n",
    "        os.removedirs(directorios)\n",
    "    except FileNotFoundError as fnfe:\n",
    "        print('Los directorios no existen')\n",
    "    except OSError as oe:\n",
    "        print('Los directorios no están vacíos')\n",
    "\n",
    "rmdirs('nuevo_dir/uno')"
   ]
  },
  {
   "cell_type": "markdown",
   "id": "fba2602a-6621-4865-a1fd-66623fdc80c7",
   "metadata": {},
   "source": [
    "La función os.**getcwd**, muestra la ruta actual del directorio de trabajo."
   ]
  },
  {
   "cell_type": "code",
   "execution_count": null,
   "id": "da2f9bf4-1c06-4cc7-b7bb-b9cf599f34e3",
   "metadata": {},
   "outputs": [],
   "source": [
    "os.getcwd()"
   ]
  },
  {
   "cell_type": "markdown",
   "id": "fc5e500a-647c-49d3-8e6e-a54a87a84fb5",
   "metadata": {},
   "source": [
    "La función os.**system**, ejecuta un comando del sistema operativo."
   ]
  },
  {
   "cell_type": "code",
   "execution_count": null,
   "id": "932ac67d-9658-4cab-84e8-1e5503a37390",
   "metadata": {},
   "outputs": [],
   "source": [
    "os.system('mkdir novo')"
   ]
  },
  {
   "cell_type": "markdown",
   "id": "dcf24378-ff34-4084-8663-055cc2ce5f87",
   "metadata": {},
   "source": [
    "#### Funciones para obtener información sobre los directorios y archivos del sistema."
   ]
  },
  {
   "cell_type": "markdown",
   "id": "f06103af-927d-452f-b0ce-c5e5ec26f859",
   "metadata": {},
   "source": [
    "La función os.**listdir**, devuelve una lista con el contenido (subdirectorios y archivos) de un directorio."
   ]
  },
  {
   "cell_type": "code",
   "execution_count": null,
   "id": "aac991e1-2560-4bed-ac54-301127c5d9d8",
   "metadata": {},
   "outputs": [],
   "source": [
    "contenido = os.listdir('c:\\\\datasets')\n",
    "contenido"
   ]
  },
  {
   "cell_type": "markdown",
   "id": "6fbdbf64-13f8-43de-8987-04c6ec45fa5b",
   "metadata": {},
   "source": [
    "La función os.**scandir**, devuelve las entradas (subdirectorios y archivos) del contenido de un directorio."
   ]
  },
  {
   "cell_type": "code",
   "execution_count": null,
   "id": "8e4c0a8e-a4b3-4fee-884c-82f79aadb287",
   "metadata": {},
   "outputs": [],
   "source": [
    "directorio = 'c:\\\\datasets'\n",
    "try:\n",
    "    with os.scandir(directorio) as entries:\n",
    "        for entry in entries:\n",
    "            print(entry.stat())\n",
    "except FileNotFoundError as fnfe:\n",
    "    print('El directorio no existe')"
   ]
  },
  {
   "cell_type": "markdown",
   "id": "4567cafd-d933-41ae-9726-eefb2c813629",
   "metadata": {},
   "source": [
    "La función os.**walk**, obtiene toda la información (subdirectorios y archivos) del directorio y de sus subdirectorios"
   ]
  },
  {
   "cell_type": "code",
   "execution_count": null,
   "id": "0767335a-cfb3-4794-98a7-3ad31c6dd02d",
   "metadata": {},
   "outputs": [],
   "source": [
    "directorio = 'c:\\\\datasets'\n",
    "for (dir, subdir, files) in os.walk(directorio):\n",
    "    for file in files:\n",
    "        print(os.path.join(dir, file))"
   ]
  },
  {
   "cell_type": "markdown",
   "id": "1bef87c1-f92e-47f5-a3c7-d11f61c2c9a6",
   "metadata": {},
   "source": [
    "La función os.path.**join**, devuelve la unión entre el nombre del directorio del archivo y el nombre del archivo.\n",
    "\n",
    "El siguiente ejemplo muestra el nombre completo del archivo (nombre de directorio y nombre del archivo)."
   ]
  },
  {
   "cell_type": "code",
   "execution_count": null,
   "id": "f74a6aad-d84d-45ba-a928-c9596f19abd6",
   "metadata": {},
   "outputs": [],
   "source": [
    "directorio = 'c:\\\\datasets'\n",
    "try:\n",
    "    for fichero in os.listdir(directorio):\n",
    "        nombre_fichero = os.path.join(directorio, fichero)\n",
    "        print(nombre_fichero)\n",
    "except FileNotFoundError as fnfe:\n",
    "    print('El directorio no existe')"
   ]
  },
  {
   "cell_type": "markdown",
   "id": "0d7e30fe-2292-4980-963e-b37ae436520e",
   "metadata": {},
   "source": [
    "La función os.**remove**, elimina un archivo.\n",
    "\n",
    "El siguiente ejemplo elimina los archivos de un directorio."
   ]
  },
  {
   "cell_type": "code",
   "execution_count": null,
   "id": "ee22045a-bf3a-4727-8e60-da45d4b4d74e",
   "metadata": {},
   "outputs": [],
   "source": [
    "directorio = 'c:\\\\temp'\n",
    "for file in os.listdir(directorio):\n",
    "    os.remove(os.path.join(directorio, file))"
   ]
  },
  {
   "cell_type": "markdown",
   "id": "9d58bece-aef4-42b4-ac30-a1dfbddb9734",
   "metadata": {},
   "source": [
    "La función os.path.**dirname**, devuelve la ruta completa del directorio al cual pertenece el archivo."
   ]
  },
  {
   "cell_type": "code",
   "execution_count": null,
   "id": "7a1bdf01-abd5-4aa9-a25b-82f456600fa3",
   "metadata": {},
   "outputs": [],
   "source": [
    "file = 'c:\\\\datasets\\\\probas\\\\probas.data'\n",
    "os.path.dirname(file)"
   ]
  },
  {
   "cell_type": "markdown",
   "id": "896bd978-d022-45e6-a944-17ce4f5b1368",
   "metadata": {},
   "source": [
    "La función os.path.**basename**, devuelve el nombre del archivo."
   ]
  },
  {
   "cell_type": "code",
   "execution_count": null,
   "id": "9116411e-1b54-4877-ae38-a80d0af870dd",
   "metadata": {},
   "outputs": [],
   "source": [
    "file = 'c:\\\\datasets\\\\probas\\\\probas.data'\n",
    "os.path.basename(file)"
   ]
  },
  {
   "cell_type": "markdown",
   "id": "65f19c6c-8293-46a0-ba63-572b2c627914",
   "metadata": {},
   "source": [
    "La función os.path.**abspath**, devuelve el nombre completo del archico formado por el nombre del directorio y el nombre del archivo."
   ]
  },
  {
   "cell_type": "code",
   "execution_count": null,
   "id": "b32f4240-2c22-4450-9bff-facfa33e441b",
   "metadata": {},
   "outputs": [],
   "source": [
    "file = 'c:\\\\datasets\\\\data\\\\ccaa.data'\n",
    "os.path.abspath(file)"
   ]
  },
  {
   "cell_type": "markdown",
   "id": "5d0b6b4a-7d97-47ba-b66a-ae83c19bba01",
   "metadata": {},
   "source": [
    "La función os.path.**split**, devuelve una tupla formada por el nombre del directorio y el nombre del archivo respectivamente."
   ]
  },
  {
   "cell_type": "code",
   "execution_count": null,
   "id": "aa63c477-d18b-4a86-be6a-e22253580607",
   "metadata": {},
   "outputs": [],
   "source": [
    "file = 'c:\\\\datasets\\\\probas\\\\probas.data'\n",
    "path, namefile = os.path.split(file)\n",
    "print(path)\n",
    "print(namefile)"
   ]
  },
  {
   "cell_type": "markdown",
   "id": "2ba8e86f-66bd-4341-b7ba-6ad4644e0491",
   "metadata": {},
   "source": [
    "La función os.path.**isfile**, devuelve verdadero si es un archivo."
   ]
  },
  {
   "cell_type": "code",
   "execution_count": null,
   "id": "a0daad98-bf50-4682-a6aa-0cc33af5660c",
   "metadata": {},
   "outputs": [],
   "source": [
    "file = 'c:\\\\datasets\\\\data\\\\ccaa.data'\n",
    "if os.path.isfile(file):\n",
    "    print('Es un archivo')"
   ]
  },
  {
   "cell_type": "markdown",
   "id": "2909e547-fb00-44ab-86dc-af6de22d669c",
   "metadata": {},
   "source": [
    "La función os.path.**isdir**, devuelve verdadero si es un directorio."
   ]
  },
  {
   "cell_type": "code",
   "execution_count": null,
   "id": "c1af297e-f96e-4b74-9316-69526973cfd8",
   "metadata": {},
   "outputs": [],
   "source": [
    "dir = 'c:\\\\datasets\\\\data'\n",
    "if os.path.isdir(dir):\n",
    "    print('Es un directorio')"
   ]
  },
  {
   "cell_type": "markdown",
   "id": "ef3fdc05-d0d7-477e-85f8-8114b87504f2",
   "metadata": {},
   "source": [
    "La función os.path.**islink**, devuelve verdadero si es un acceso directo o enlace simbólico."
   ]
  },
  {
   "cell_type": "code",
   "execution_count": null,
   "id": "295f1550-1b75-4c0b-9e0a-f159123c10fb",
   "metadata": {},
   "outputs": [],
   "source": [
    "dir = 'c:\\\\datasets\\\\data'\n",
    "if os.path.islink(dir):\n",
    "    print('Es un acceso directo')"
   ]
  },
  {
   "cell_type": "markdown",
   "id": "ff87c5cf-f6a9-455a-b684-800ade08510d",
   "metadata": {},
   "source": [
    "La función os.path.**exists**, devuelve verdadero si un archivo o directorio existe."
   ]
  },
  {
   "cell_type": "code",
   "execution_count": null,
   "id": "5dac9927-5611-4d6b-8c2f-b5cc95c0b029",
   "metadata": {},
   "outputs": [],
   "source": [
    "dir = 'c:\\\\datasets\\\\data'\n",
    "if os.path.exists(dir):\n",
    "    print('El directorio ya existe')"
   ]
  },
  {
   "cell_type": "markdown",
   "id": "d3725cc7-cc83-4156-ad40-2ff14b311fdd",
   "metadata": {},
   "source": [
    "La función os.path.**getsize**, devuelve el tamaño en bytes de un archivo."
   ]
  },
  {
   "cell_type": "code",
   "execution_count": null,
   "id": "fa01d097-9a29-422b-9474-353ca2d96905",
   "metadata": {},
   "outputs": [],
   "source": [
    "file = 'c:\\\\datasets\\\\data\\\\ccaa.data'\n",
    "bytes = os.path.getsize(file)\n",
    "print(f'{file} ocupa {bytes} bytes')"
   ]
  },
  {
   "cell_type": "markdown",
   "id": "98c7856c-205b-4fd0-a604-84d87813d45a",
   "metadata": {},
   "source": [
    "Importamos el módulo **datetime** de Python, para trabajar con fechas"
   ]
  },
  {
   "cell_type": "code",
   "execution_count": null,
   "id": "cacc02a2-4e19-4fdb-85cf-631cddd2aa03",
   "metadata": {},
   "outputs": [],
   "source": [
    "import datetime as dt"
   ]
  },
  {
   "cell_type": "markdown",
   "id": "5a6148aa-8d9e-489f-9abb-c08f47386be6",
   "metadata": {},
   "source": [
    "La función os.path.**getctime**, devuelve la fecha y hora en que se creó el archivo o directorio expresado en segundos."
   ]
  },
  {
   "cell_type": "code",
   "execution_count": null,
   "id": "9b5cbbd6-7d5b-440b-98bb-bd6216f395ca",
   "metadata": {},
   "outputs": [],
   "source": [
    "file = 'c:\\\\datasets\\\\data\\\\ccaa.data'\n",
    "segundos = os.path.getctime(file)\n",
    "fecha = dt.datetime.fromtimestamp(segundos)\n",
    "print(fecha)"
   ]
  },
  {
   "cell_type": "markdown",
   "id": "8bd5275a-f685-477f-8f51-a2c7441244b1",
   "metadata": {},
   "source": [
    "La función os.path.**getatime**, devuelve la fecha y hora a la que se accedió por última vez al archivo o directorio expresado en segundos."
   ]
  },
  {
   "cell_type": "code",
   "execution_count": null,
   "id": "ddbe8e67-474f-415c-b069-57d7e9c11e88",
   "metadata": {},
   "outputs": [],
   "source": [
    "file = 'c:\\\\datasets\\\\data\\\\ccaa.data'\n",
    "segundos = os.path.getatime(file)\n",
    "fecha = dt.datetime.fromtimestamp(segundos)\n",
    "print(fecha)"
   ]
  },
  {
   "cell_type": "markdown",
   "id": "664ac6ca-b002-46fd-8346-6e1a85f008b8",
   "metadata": {},
   "source": [
    "La función os.path.**getmtime**, devuelve la fecha y hora en que se modificó por última vez el archivo o directorio."
   ]
  },
  {
   "cell_type": "code",
   "execution_count": null,
   "id": "c2c193a8-f0d2-4e41-ae30-1e78d1121ff8",
   "metadata": {},
   "outputs": [],
   "source": [
    "file = 'c:\\\\datasets\\\\data\\\\ccaa.data'\n",
    "segundos = os.path.getmtime(file)\n",
    "fecha = dt.datetime.fromtimestamp(segundos)\n",
    "print(fecha)"
   ]
  },
  {
   "cell_type": "markdown",
   "id": "5498c250-1464-4fd0-b373-eaf4d66f5621",
   "metadata": {},
   "source": [
    "La función os.**stat**, devuelve información sobre el archivo o directorio."
   ]
  },
  {
   "cell_type": "code",
   "execution_count": null,
   "id": "d32237f4-1dd6-4392-8b10-9fe21d01a93e",
   "metadata": {},
   "outputs": [],
   "source": [
    "file = 'c:\\\\datasets\\\\data\\\\ccaa.data'\n",
    "state = os.stat(file)\n",
    "state"
   ]
  },
  {
   "cell_type": "code",
   "execution_count": null,
   "id": "be66056d-7f23-474f-b2c7-81fb5fde8524",
   "metadata": {},
   "outputs": [],
   "source": [
    "path, name = os.path.split(file)\n",
    "namefile = os.path.abspath(file)\n",
    "size = state.st_size\n",
    "date_access = dt.datetime.fromtimestamp(state.st_atime)\n",
    "date_last = dt.datetime.fromtimestamp(state.st_mtime)\n",
    "date_create = dt.datetime.fromtimestamp(state.st_ctime)\n",
    "print(f'File => {namefile}')\n",
    "print(f'Path => {path}')\n",
    "print(f'Name => {name}')\n",
    "print(f'Size => {size}')\n",
    "print(f'date access => {date_access}')\n",
    "print(f'date last => {date_last}')\n",
    "print(f'date create => {date_create}')"
   ]
  },
  {
   "cell_type": "code",
   "execution_count": null,
   "id": "775b7fd2-0cc3-46f8-8ef7-253eed1cbc38",
   "metadata": {},
   "outputs": [],
   "source": []
  }
 ],
 "metadata": {
  "kernelspec": {
   "display_name": "Python 3 (ipykernel)",
   "language": "python",
   "name": "python3"
  },
  "language_info": {
   "codemirror_mode": {
    "name": "ipython",
    "version": 3
   },
   "file_extension": ".py",
   "mimetype": "text/x-python",
   "name": "python",
   "nbconvert_exporter": "python",
   "pygments_lexer": "ipython3",
   "version": "3.12.2"
  }
 },
 "nbformat": 4,
 "nbformat_minor": 5
}
